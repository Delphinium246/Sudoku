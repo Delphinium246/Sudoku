{
 "cells": [
  {
   "cell_type": "code",
   "execution_count": 7,
   "id": "5d9db868-e4b1-4565-a4e5-f640e111eacb",
   "metadata": {},
   "outputs": [],
   "source": [
    "import os\n",
    "import cv2"
   ]
  },
  {
   "cell_type": "code",
   "execution_count": 15,
   "id": "d1668c5e-5aed-4efb-8f66-8d90f16c6b96",
   "metadata": {},
   "outputs": [],
   "source": [
    "directory = r'./digit_data/'\n",
    "output = r'./out_data/'\n",
    "i = 3015\n",
    "for filename in os.listdir(directory):\n",
    "    if filename.endswith(\".jpg\"):\n",
    "        f = os.path.join(directory, filename)\n",
    "        img = cv2.imread(f, 0)\n",
    "        \n",
    "        \n",
    "#         print(f)\n"
   ]
  },
  {
   "cell_type": "code",
   "execution_count": 24,
   "id": "174bac20-1197-4d6a-bc0a-c56e0a5c473a",
   "metadata": {},
   "outputs": [
    {
     "name": "stdout",
     "output_type": "stream",
     "text": [
      "0\n",
      "5\n",
      "5\n",
      "8\n",
      "5\n",
      "6\n",
      "2\n",
      "5\n",
      "6\n",
      "3\n",
      "6\n",
      "5\n",
      "9\n",
      "5\n",
      "4\n",
      "5\n",
      "1\n",
      "2\n",
      "7\n",
      "6\n",
      "7\n",
      "5\n",
      "6\n",
      "8\n",
      "9\n",
      "0\n",
      "5\n",
      "0\n",
      "5\n",
      "9\n",
      "2\n",
      "3\n",
      "6\n"
     ]
    }
   ],
   "source": [
    "from keras.models import load_model\n",
    "import numpy as np\n",
    "\n",
    "num_classes = 10\n",
    "input_shape = (28, 28, 1)\n",
    "\n",
    "# y = keras.utils.to_categorical(y, num_classes)\n",
    "\n",
    "model = load_model('./cnn_model.h5')\n",
    "\n",
    "directory = r'./digit_data/'\n",
    "output = r'./out_data/'\n",
    "i = 3015\n",
    "for filename in os.listdir(directory):\n",
    "    if filename.endswith(\".jpg\"):\n",
    "        f = os.path.join(directory, filename)\n",
    "#         print(f)\n",
    "        img = cv2.imread(f, 0)\n",
    "        X = img\n",
    "        X = X.astype(\"float32\") / 255\n",
    "        X = X.reshape(-1,28, 28, 1)\n",
    "        res = model.predict(X)\n",
    "        print(np.argmax(res[0]))\n",
    "        "
   ]
  },
  {
   "cell_type": "code",
   "execution_count": null,
   "id": "b4a47c42-d246-4d3b-aff4-a5e59fa487cb",
   "metadata": {},
   "outputs": [],
   "source": []
  }
 ],
 "metadata": {
  "kernelspec": {
   "display_name": "Python 3",
   "language": "python",
   "name": "python3"
  },
  "language_info": {
   "codemirror_mode": {
    "name": "ipython",
    "version": 3
   },
   "file_extension": ".py",
   "mimetype": "text/x-python",
   "name": "python",
   "nbconvert_exporter": "python",
   "pygments_lexer": "ipython3",
   "version": "3.8.5"
  }
 },
 "nbformat": 4,
 "nbformat_minor": 5
}
