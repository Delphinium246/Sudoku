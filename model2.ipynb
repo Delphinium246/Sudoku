{
 "cells": [
  {
   "cell_type": "code",
   "execution_count": 1,
   "id": "c77c14e7-cb8b-4da4-94a9-d0a2f9812fa4",
   "metadata": {},
   "outputs": [],
   "source": [
    "import random\n",
    "import os\n",
    "import cv2\n",
    "import imutils\n",
    "import numpy as np\n",
    "import tensorflow as tf\n",
    "import matplotlib.pyplot as plt\n",
    "\n",
    "from skimage.segmentation import clear_border\n",
    "from imutils.perspective import four_point_transform\n",
    "from collections import defaultdict\n",
    "from keras.models import load_model"
   ]
  },
  {
   "cell_type": "code",
   "execution_count": 2,
   "id": "79cbc133-7b69-432a-8f9b-1c64cea3a814",
   "metadata": {},
   "outputs": [],
   "source": [
    "model = load_model('./mnist_1.h5')\n",
    "directory = r'./digit_data'\n",
    "for filename in os.listdir(directory):\n",
    "    if filename.endswith(\".jpg\") or filename.endswith(\".png\"):\n",
    "        f = os.path.join(directory, filename)\n",
    "#         img = cv2.imread(f, 0)\n",
    "#         img = cv2.resize(img, (28, 28), interpolation = cv2.INTER_CUBIC)\n",
    "# #         plt.matshow(img)\n",
    "#         img_flatten = img.reshape(1, 28, 28, 1)\n",
    "#         res = model.predict(img_flatten)\n",
    "#         print(np.argmax(res))\n",
    "    else:\n",
    "        continue\n",
    "\n"
   ]
  },
  {
   "cell_type": "code",
   "execution_count": null,
   "id": "a87a22f5-769e-4ee2-a09d-104af6a01bb1",
   "metadata": {},
   "outputs": [],
   "source": []
  },
  {
   "cell_type": "code",
   "execution_count": 6,
   "id": "30dba175-f5f7-44a5-b52e-05431b734f07",
   "metadata": {},
   "outputs": [
    {
     "data": {
      "text/plain": [
       "<matplotlib.image.AxesImage at 0x7f8561454fd0>"
      ]
     },
     "execution_count": 6,
     "metadata": {},
     "output_type": "execute_result"
    },
    {
     "data": {
      "image/png": "[encoded data removed]",
      "text/plain": [
       "<Figure size 288x288 with 1 Axes>"
      ]
     },
     "metadata": {
      "needs_background": "light"
     },
     "output_type": "display_data"
    }
   ],
   "source": [
    "img = cv2.imread('./digit_data/tmp_img_97719.jpg', 0)\n",
    "img = cv2.resize(img, (28, 28), interpolation = cv2.INTER_CUBIC)\n",
    "plt.matshow(img)"
   ]
  },
  {
   "cell_type": "code",
   "execution_count": 7,
   "id": "55a3abd1-754d-47a0-8576-5c564cc77b47",
   "metadata": {},
   "outputs": [],
   "source": [
    "img_flatten = img.reshape(1, 28, 28, 1)\n",
    "res = model.predict(img_flatten)[0]"
   ]
  },
  {
   "cell_type": "code",
   "execution_count": 8,
   "id": "ca9f9d7d-bebe-4d53-9457-44a4c8ba15bf",
   "metadata": {},
   "outputs": [
    {
     "data": {
      "text/plain": [
       "9"
      ]
     },
     "execution_count": 8,
     "metadata": {},
     "output_type": "execute_result"
    }
   ],
   "source": [
    "np.argmax(res)"
   ]
  },
  {
   "cell_type": "code",
   "execution_count": null,
   "id": "2e667560-b9b8-4af4-a944-a58dbbe9d23c",
   "metadata": {},
   "outputs": [],
   "source": []
  }
 ],
 "metadata": {
  "kernelspec": {
   "display_name": "Python 3",
   "language": "python",
   "name": "python3"
  },
  "language_info": {
   "codemirror_mode": {
    "name": "ipython",
    "version": 3
   },
   "file_extension": ".py",
   "mimetype": "text/x-python",
   "name": "python",
   "nbconvert_exporter": "python",
   "pygments_lexer": "ipython3",
   "version": "3.8.5"
  }
 },
 "nbformat": 4,
 "nbformat_minor": 5
}
