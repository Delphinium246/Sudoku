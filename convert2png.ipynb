{
 "cells": [
  {
   "cell_type": "code",
   "execution_count": 1,
   "id": "1b83b474-26d2-4e75-aef8-5a6e7cdf4f7f",
   "metadata": {},
   "outputs": [],
   "source": [
    "import os\n",
    "import cv2"
   ]
  },
  {
   "cell_type": "code",
   "execution_count": 5,
   "id": "4b8a934c-3ef5-499a-9891-68193e34692d",
   "metadata": {},
   "outputs": [
    {
     "name": "stdout",
     "output_type": "stream",
     "text": [
      "./sudoku/Sudoku20.jpg\n",
      "./sudoku/sudoku33.jpg\n",
      "./sudoku/sudoku22.jpg\n",
      "./sudoku/sudoku31.jpg\n",
      "./sudoku/sudoku28.jpg\n",
      "./sudoku/sudoku32.jpg\n",
      "./sudoku/sudoku35.jpg\n",
      "./sudoku/sudoku12.jpg\n",
      "./sudoku/sudoku21.jpg\n",
      "./sudoku/sudoku25.jpg\n",
      "./sudoku/sudoku27.jpg\n",
      "./sudoku/sudoku34.jpg\n",
      "./sudoku/sudoku17.jpg\n",
      "./sudoku/sudoku13.jpg\n",
      "./sudoku/sudoku30.jpg\n",
      "./sudoku/sudoku18.jpg\n",
      "./sudoku/sudoku24.jpg\n",
      "./sudoku/sudoku38.jpg\n",
      "./sudoku/sudoku11.jpg\n",
      "./sudoku/sudoku37.jpg\n",
      "./sudoku/sudoku19.jpg\n",
      "./sudoku/sudoku16.jpg\n",
      "./sudoku/sudoku15.jpg\n",
      "./sudoku/sudoku29.jpg\n",
      "./sudoku/sudoku23.jpg\n",
      "./sudoku/sudoku26.jpg\n",
      "./sudoku/sudoku39.jpg\n",
      "./sudoku/sudoku14.jpg\n",
      "./sudoku/sudoku36.jpg\n"
     ]
    }
   ],
   "source": [
    "directory = r'./sudoku/'\n",
    "output = r'./sudoku_out/'\n",
    "i = 0\n",
    "for filename in os.listdir(directory):\n",
    "    if filename.endswith(\".jpg\") or filename.endswith(\".png\"):\n",
    "        f = os.path.join(directory, filename)\n",
    "        print(f)\n",
    "#         img = cv2.imread(f, 0)\n",
    "# #         img = cv2.resize(img, (28, 28), interpolation = cv2.INTER_CUBIC)\n",
    "#         cv2.imwrite(output + str(i) + '.png', img)       \n",
    "        i = i+1\n",
    "#         os.remove(f)"
   ]
  },
  {
   "cell_type": "code",
   "execution_count": null,
   "id": "14e738b6-db2e-4458-a167-e9bb7d7eab60",
   "metadata": {},
   "outputs": [],
   "source": []
  }
 ],
 "metadata": {
  "kernelspec": {
   "display_name": "Python 3",
   "language": "python",
   "name": "python3"
  },
  "language_info": {
   "codemirror_mode": {
    "name": "ipython",
    "version": 3
   },
   "file_extension": ".py",
   "mimetype": "text/x-python",
   "name": "python",
   "nbconvert_exporter": "python",
   "pygments_lexer": "ipython3",
   "version": "3.8.5"
  }
 },
 "nbformat": 4,
 "nbformat_minor": 5
}
