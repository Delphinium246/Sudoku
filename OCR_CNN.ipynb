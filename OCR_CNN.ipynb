{
 "cells": [
  {
   "cell_type": "code",
   "execution_count": 1,
   "id": "293280d7-a423-4e0c-88b5-2cdc09d630aa",
   "metadata": {},
   "outputs": [],
   "source": [
    "import numpy as np\n",
    "import cv2\n",
    "import os\n",
    "from sklearn.model_selection import train_test_split\n",
    "import matplotlib.pyplot as plt\n",
    "from tensorflow import keras\n",
    "from keras.preprocessing.image import ImageDataGenerator\n",
    "from keras.utils.np_utils import to_categorical\n",
    "import tensorflow as tf\n",
    "from keras.optimizers import Adam\n",
    "from tensorflow.keras.layers import Dense, Dropout, Activation, Flatten, Conv2D, MaxPooling2D\n",
    "import pickle"
   ]
  },
  {
   "cell_type": "code",
   "execution_count": 2,
   "id": "e2fd4d40-b691-4911-94b5-418321928f23",
   "metadata": {},
   "outputs": [],
   "source": [
    "path = 'myData'\n",
    "testRatio = 0.2\n",
    "valRatio = 0.2\n",
    "imageDimensions = (28, 28, 3)\n",
    "batchSizeVal = 50\n",
    "epochsVal = 10\n",
    "stepsPerEpochVal = 2000"
   ]
  },
  {
   "cell_type": "code",
   "execution_count": 3,
   "id": "846982dd-c8be-4ec0-a260-12f9b9b10a73",
   "metadata": {},
   "outputs": [
    {
     "name": "stdout",
     "output_type": "stream",
     "text": [
      "Total Classes Detected: 10\n",
      "Importing Classes .......\n",
      "0 1 2 3 4 5 6 7 8 9  \n",
      "Total Images in Images List =  10160\n",
      "Total IDS in classNo List=  10160\n"
     ]
    }
   ],
   "source": [
    "count = 0\n",
    "images = []  # LIST CONTAINING ALL THE IMAGES\n",
    "classNo = []  # LIST CONTAINING ALL THE CORRESPONDING CLASS ID OF IMAGES\n",
    "myList = os.listdir(path)\n",
    "print(\"Total Classes Detected:\", len(myList))\n",
    "noOfClasses = len(myList)\n",
    "print(\"Importing Classes .......\")\n",
    "for x in range(0, noOfClasses):\n",
    "    myPicList = os.listdir(path + \"/\" + str(x))\n",
    "    for y in myPicList:\n",
    "        curImg = cv2.imread(path + \"/\" + str(x) + \"/\" + y)\n",
    "        curImg = cv2.resize(curImg, (28, 28))\n",
    "        images.append(curImg)\n",
    "        classNo.append(x)\n",
    "    print(x, end=\" \")\n",
    "print(\" \")\n",
    "print(\"Total Images in Images List = \", len(images))\n",
    "print(\"Total IDS in classNo List= \", len(classNo))"
   ]
  },
  {
   "cell_type": "code",
   "execution_count": 4,
   "id": "4d878d42-5f88-44e6-a30b-ad565a3f1447",
   "metadata": {},
   "outputs": [
    {
     "name": "stdout",
     "output_type": "stream",
     "text": [
      "(10160, 28, 28, 3)\n"
     ]
    }
   ],
   "source": [
    "images = np.array(images)\n",
    "classNo = np.array(classNo)\n",
    "print(images.shape)"
   ]
  },
  {
   "cell_type": "code",
   "execution_count": 5,
   "id": "d63dcb7a-99a4-49b5-8fc0-c111ca5eea11",
   "metadata": {},
   "outputs": [
    {
     "name": "stdout",
     "output_type": "stream",
     "text": [
      "(6502, 28, 28, 3)\n",
      "(2032, 28, 28, 3)\n",
      "(1626, 28, 28, 3)\n"
     ]
    }
   ],
   "source": [
    "X_train, X_test, y_train, y_test = train_test_split(images, classNo, test_size=testRatio)\n",
    "X_train, X_validation, y_train, y_validation = train_test_split(X_train, y_train, test_size=valRatio)\n",
    "print(X_train.shape)\n",
    "print(X_test.shape)\n",
    "print(X_validation.shape)"
   ]
  },
  {
   "cell_type": "code",
   "execution_count": 6,
   "id": "dae2601e-2b1a-4cf2-9490-8865b555731c",
   "metadata": {},
   "outputs": [
    {
     "name": "stdout",
     "output_type": "stream",
     "text": [
      "[659, 649, 645, 661, 656, 663, 631, 663, 637, 638]\n"
     ]
    }
   ],
   "source": [
    "numOfSamples = []\n",
    "for x in range(0, noOfClasses):\n",
    "    numOfSamples.append(len(np.where(y_train == x)[0]))\n",
    "print(numOfSamples)"
   ]
  },
  {
   "cell_type": "code",
   "execution_count": 7,
   "id": "2500c7fe-5b32-445e-9511-7d20895b62ae",
   "metadata": {},
   "outputs": [],
   "source": [
    "def preProcessing(img):\n",
    "    img = cv2.cvtColor(img, cv2.COLOR_BGR2GRAY)\n",
    "    img = cv2.equalizeHist(img)\n",
    "    img = img / 255\n",
    "    return img"
   ]
  },
  {
   "cell_type": "code",
   "execution_count": 8,
   "id": "3ccf556c-1395-454d-a4eb-f5481d116f23",
   "metadata": {},
   "outputs": [
    {
     "name": "stdout",
     "output_type": "stream",
     "text": [
      "(6502, 28, 28)\n",
      "(2032, 28, 28)\n",
      "(1626, 28, 28)\n"
     ]
    }
   ],
   "source": [
    "X_train = np.array(list(map(preProcessing, X_train)))\n",
    "X_test = np.array(list(map(preProcessing, X_test)))\n",
    "X_validation = np.array(list(map(preProcessing, X_validation)))\n",
    "print(X_train.shape)\n",
    "print(X_test.shape)\n",
    "print(X_validation.shape)"
   ]
  },
  {
   "cell_type": "code",
   "execution_count": 9,
   "id": "bf89e9fb-c308-41e5-955c-1ef1421a7db6",
   "metadata": {},
   "outputs": [
    {
     "name": "stdout",
     "output_type": "stream",
     "text": [
      "(6502, 28, 28, 1)\n",
      "(2032, 28, 28, 1)\n",
      "(1626, 28, 28, 1)\n"
     ]
    }
   ],
   "source": [
    "X_train = X_train.reshape(X_train.shape[0], X_train.shape[1], X_train.shape[2], 1)\n",
    "X_test = X_test.reshape(X_test.shape[0], X_test.shape[1], X_test.shape[2], 1)\n",
    "X_validation = X_validation.reshape(X_validation.shape[0], X_validation.shape[1], X_validation.shape[2], 1)\n",
    "print(X_train.shape)\n",
    "print(X_test.shape)\n",
    "print(X_validation.shape)"
   ]
  },
  {
   "cell_type": "code",
   "execution_count": 10,
   "id": "fd40f48b-0c2d-494c-844f-abc0479a8ce3",
   "metadata": {},
   "outputs": [],
   "source": [
    "y_train = to_categorical(y_train, noOfClasses)\n",
    "y_test = to_categorical(y_test, noOfClasses)\n",
    "y_validation = to_categorical(y_validation, noOfClasses)"
   ]
  },
  {
   "cell_type": "code",
   "execution_count": 11,
   "id": "bc175c6f-6909-499c-bf76-fb32bbb67a87",
   "metadata": {},
   "outputs": [],
   "source": [
    "def myModel():\n",
    "    noOfFilters = 60\n",
    "    sizeOfFilter1 = (3, 3)\n",
    "    sizeOfFilter2 = (3, 3)\n",
    "    sizeOfPool = (2, 2)\n",
    "    noOfNodes = 500\n",
    "\n",
    "    model = keras.Sequential()\n",
    "    model.add(keras.Input(shape=(28, 28, 1)))\n",
    "    model.add(Conv2D(noOfFilters, kernel_size=sizeOfFilter1, activation=\"relu\"))\n",
    "    model.add(MaxPooling2D(pool_size=sizeOfPool))\n",
    "    model.add(Conv2D(64, kernel_size=sizeOfFilter2, activation='relu'))\n",
    "    model.add(MaxPooling2D(pool_size=sizeOfPool))\n",
    "    model.add(Flatten())\n",
    "    model.add(Dropout(0.5))\n",
    "    model.add(Dense(units=noOfClasses, activation='softmax'))\n",
    "\n",
    "    # model.compile(Adam(lr=0.001), loss='categorical_crossentropy', metrics=['accuracy']) # udpated the optimizer based on TA Jagadish inputs.\n",
    "    opt = keras.optimizers.Adam(learning_rate=0.01) \n",
    "    model.compile(loss='categorical_crossentropy', optimizer=opt, metrics=['accuracy'])\n",
    "    return model"
   ]
  },
  {
   "cell_type": "code",
   "execution_count": 12,
   "id": "cfad13eb-a68b-4ef9-aa77-7cc09dd3d56b",
   "metadata": {},
   "outputs": [
    {
     "name": "stdout",
     "output_type": "stream",
     "text": [
      "Model: \"sequential\"\n",
      "_________________________________________________________________\n",
      "Layer (type)                 Output Shape              Param #   \n",
      "=================================================================\n",
      "conv2d (Conv2D)              (None, 26, 26, 60)        600       \n",
      "_________________________________________________________________\n",
      "max_pooling2d (MaxPooling2D) (None, 13, 13, 60)        0         \n",
      "_________________________________________________________________\n",
      "conv2d_1 (Conv2D)            (None, 11, 11, 64)        34624     \n",
      "_________________________________________________________________\n",
      "max_pooling2d_1 (MaxPooling2 (None, 5, 5, 64)          0         \n",
      "_________________________________________________________________\n",
      "flatten (Flatten)            (None, 1600)              0         \n",
      "_________________________________________________________________\n",
      "dropout (Dropout)            (None, 1600)              0         \n",
      "_________________________________________________________________\n",
      "dense (Dense)                (None, 10)                16010     \n",
      "=================================================================\n",
      "Total params: 51,234\n",
      "Trainable params: 51,234\n",
      "Non-trainable params: 0\n",
      "_________________________________________________________________\n",
      "None\n"
     ]
    }
   ],
   "source": [
    "model = myModel()\n",
    "print(model.summary())"
   ]
  },
  {
   "cell_type": "code",
   "execution_count": 13,
   "id": "329ddb3e-464b-4bd9-b91f-0b85ef947602",
   "metadata": {},
   "outputs": [
    {
     "name": "stdout",
     "output_type": "stream",
     "text": [
      "Epoch 1/14\n",
      "183/183 [==============================] - 39s 202ms/step - loss: 1.0033 - accuracy: 0.6727 - val_loss: 0.0863 - val_accuracy: 0.9662\n",
      "Epoch 2/14\n",
      "183/183 [==============================] - 30s 166ms/step - loss: 0.1545 - accuracy: 0.9484 - val_loss: 0.0755 - val_accuracy: 0.9724\n",
      "Epoch 3/14\n",
      "183/183 [==============================] - 35s 192ms/step - loss: 0.1117 - accuracy: 0.9619 - val_loss: 0.0577 - val_accuracy: 0.9846\n",
      "Epoch 4/14\n",
      "183/183 [==============================] - 37s 204ms/step - loss: 0.0931 - accuracy: 0.9698 - val_loss: 0.0493 - val_accuracy: 0.9816\n",
      "Epoch 5/14\n",
      "183/183 [==============================] - 35s 192ms/step - loss: 0.1080 - accuracy: 0.9653 - val_loss: 0.0654 - val_accuracy: 0.9754\n",
      "Epoch 6/14\n",
      "183/183 [==============================] - 34s 184ms/step - loss: 0.0986 - accuracy: 0.9683 - val_loss: 0.0538 - val_accuracy: 0.9816\n",
      "Epoch 7/14\n",
      "183/183 [==============================] - 34s 186ms/step - loss: 0.0900 - accuracy: 0.9714 - val_loss: 0.0509 - val_accuracy: 0.9862\n",
      "Epoch 8/14\n",
      "183/183 [==============================] - 36s 198ms/step - loss: 0.0787 - accuracy: 0.9735 - val_loss: 0.0327 - val_accuracy: 0.9892\n",
      "Epoch 9/14\n",
      "183/183 [==============================] - 34s 185ms/step - loss: 0.0778 - accuracy: 0.9765 - val_loss: 0.0598 - val_accuracy: 0.9816\n",
      "Epoch 10/14\n",
      "183/183 [==============================] - 34s 188ms/step - loss: 0.0546 - accuracy: 0.9823 - val_loss: 0.1138 - val_accuracy: 0.9754\n",
      "Epoch 11/14\n",
      "183/183 [==============================] - 39s 212ms/step - loss: 0.0558 - accuracy: 0.9834 - val_loss: 0.0776 - val_accuracy: 0.9739\n",
      "Epoch 12/14\n",
      "183/183 [==============================] - 42s 227ms/step - loss: 0.0518 - accuracy: 0.9831 - val_loss: 0.0622 - val_accuracy: 0.9877\n",
      "Epoch 13/14\n",
      "183/183 [==============================] - 33s 179ms/step - loss: 0.0613 - accuracy: 0.9827 - val_loss: 0.0513 - val_accuracy: 0.9877\n",
      "Epoch 14/14\n",
      "183/183 [==============================] - 34s 185ms/step - loss: 0.0622 - accuracy: 0.9815 - val_loss: 0.0575 - val_accuracy: 0.9862\n"
     ]
    },
    {
     "data": {
      "text/plain": [
       "<tensorflow.python.keras.callbacks.History at 0x7fe1d10e9160>"
      ]
     },
     "execution_count": 13,
     "metadata": {},
     "output_type": "execute_result"
    }
   ],
   "source": [
    "model.fit(X_train, y_train, batch_size=32, epochs=14, validation_split=0.1, shuffle=1)"
   ]
  },
  {
   "cell_type": "code",
   "execution_count": 14,
   "id": "e1b45109-14b6-4bed-af02-952d8638d441",
   "metadata": {},
   "outputs": [
    {
     "name": "stdout",
     "output_type": "stream",
     "text": [
      "Test Score =  0.04649050906300545\n",
      "Test Accuracy = 0.9901574850082397\n"
     ]
    }
   ],
   "source": [
    "score = model.evaluate(X_test, y_test, verbose=0)\n",
    "y_predicted = model.predict(X_test)\n",
    "print('Test Score = ', score[0])\n",
    "print('Test Accuracy =', score[1])"
   ]
  },
  {
   "cell_type": "code",
   "execution_count": 15,
   "id": "c302ca7b-7e33-4a8d-aded-413239b901f3",
   "metadata": {},
   "outputs": [],
   "source": [
    "#### SAVE THE TRAINED MODEL\n",
    "model.save('cnn_model_printed_digits_bt32_E14.h5')"
   ]
  },
  {
   "cell_type": "code",
   "execution_count": 16,
   "id": "453c90af-03ae-4a2c-87ca-440a1b03df28",
   "metadata": {},
   "outputs": [
    {
     "data": {
      "text/plain": [
       "[8, 5, 7, 0, 8]"
      ]
     },
     "execution_count": 16,
     "metadata": {},
     "output_type": "execute_result"
    }
   ],
   "source": [
    "y_predicted_labels = [np.argmax(i) for i in y_predicted]\n",
    "y_predicted_labels[:5]"
   ]
  },
  {
   "cell_type": "code",
   "execution_count": 17,
   "id": "83bf2a15-32cd-4b37-89f3-103b0299dc59",
   "metadata": {},
   "outputs": [
    {
     "data": {
      "text/plain": [
       "[8, 5, 7, 0, 8]"
      ]
     },
     "execution_count": 17,
     "metadata": {},
     "output_type": "execute_result"
    }
   ],
   "source": [
    "y_test_labels = [np.argmax(i) for i in y_test]\n",
    "y_test_labels[:5]"
   ]
  },
  {
   "cell_type": "code",
   "execution_count": 18,
   "id": "48b1f0f5-d35f-4b0e-8475-1fb268344b48",
   "metadata": {},
   "outputs": [],
   "source": [
    "cMatrix = tf.math.confusion_matrix(labels=y_test_labels, predictions=y_predicted_labels)"
   ]
  },
  {
   "cell_type": "code",
   "execution_count": 19,
   "id": "747c02a9-7cdb-4a0e-bd28-1bbd527b2486",
   "metadata": {},
   "outputs": [
    {
     "data": {
      "text/plain": [
       "Text(69.0, 0.5, 'Actual')"
      ]
     },
     "execution_count": 19,
     "metadata": {},
     "output_type": "execute_result"
    },
    {
     "data": {
      "image/png": "[encoded data removed]",
      "text/plain": [
       "<Figure size 720x504 with 2 Axes>"
      ]
     },
     "metadata": {
      "needs_background": "light"
     },
     "output_type": "display_data"
    }
   ],
   "source": [
    "import seaborn as sn\n",
    "plt.figure(figsize = (10,7))\n",
    "sn.heatmap(cMatrix, annot=True, fmt='d')\n",
    "plt.xlabel('Predicted')\n",
    "plt.ylabel('Actual')"
   ]
  },
  {
   "cell_type": "code",
   "execution_count": null,
   "id": "dbefda56-569e-4628-9e1f-665fc0cb2a53",
   "metadata": {},
   "outputs": [],
   "source": []
  }
 ],
 "metadata": {
  "kernelspec": {
   "display_name": "Python 3",
   "language": "python",
   "name": "python3"
  },
  "language_info": {
   "codemirror_mode": {
    "name": "ipython",
    "version": 3
   },
   "file_extension": ".py",
   "mimetype": "text/x-python",
   "name": "python",
   "nbconvert_exporter": "python",
   "pygments_lexer": "ipython3",
   "version": "3.8.5"
  }
 },
 "nbformat": 4,
 "nbformat_minor": 5
}
