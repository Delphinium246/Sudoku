{
 "cells": [
  {
   "cell_type": "code",
   "execution_count": 1,
   "id": "317d45bd-9fac-478c-8ec7-b3c5c41b0efa",
   "metadata": {},
   "outputs": [],
   "source": [
    "import pickle\n",
    "import numpy as np\n",
    "import matplotlib.pyplot as plt\n",
    "import os\n",
    "import cv2"
   ]
  },
  {
   "cell_type": "code",
   "execution_count": 2,
   "id": "edaa390f-1e43-460f-b63c-c96ffd2a64c5",
   "metadata": {},
   "outputs": [
    {
     "data": {
      "text/plain": [
       "<matplotlib.image.AxesImage at 0x7f2eba9342b0>"
      ]
     },
     "execution_count": 2,
     "metadata": {},
     "output_type": "execute_result"
    },
    {
     "data": {
      "image/png": "[encoded data removed]",
      "text/plain": [
       "<Figure size 432x288 with 1 Axes>"
      ]
     },
     "metadata": {
      "needs_background": "light"
     },
     "output_type": "display_data"
    }
   ],
   "source": [
    "n = 1001\n",
    "X = pickle.load(open(\"X.pickle\", 'rb'))\n",
    "plt.imshow(X[n], cmap =\"gray\")"
   ]
  },
  {
   "cell_type": "code",
   "execution_count": 3,
   "id": "91742eaa-1fa1-4910-af20-2ae10ce3a250",
   "metadata": {},
   "outputs": [
    {
     "name": "stdout",
     "output_type": "stream",
     "text": [
      "6\n"
     ]
    }
   ],
   "source": [
    "y = pickle.load(open(\"y.pickle\", 'rb'))\n",
    "print(int(y[n]))"
   ]
  },
  {
   "cell_type": "code",
   "execution_count": 4,
   "id": "c0f62d3b-ea6c-42f9-8176-f06b6c53f0d7",
   "metadata": {},
   "outputs": [],
   "source": [
    "from tensorflow import keras\n",
    "import tensorflow as tf\n",
    "from tensorflow.keras.models import Sequential\n",
    "from tensorflow.keras.layers import Dense, Dropout, Activation, Flatten, Conv2D, MaxPooling2D\n",
    "\n",
    "# (X_train, y_train), (X_test, y_test) = keras.datasets.mnist.load_data()\n",
    "\n",
    "# X_train = X_train / 255\n",
    "# X_train = X_train.reshape(-1, 28, 28, 1)\n",
    "# X_test = X_test / 255\n",
    "# X_test = X_test.reshape(-1, 28, 28, 1)\n",
    "\n",
    "# X_train.shape"
   ]
  },
  {
   "cell_type": "code",
   "execution_count": 5,
   "id": "d269b198-31e8-4257-ba61-0c105f2cdbe4",
   "metadata": {},
   "outputs": [],
   "source": [
    "# for feature in X:\n",
    "#     X_train = np.append(X_train, feature)\n",
    "#     plt.imshow(feature, cmap =\"gray\")\n",
    "#     break"
   ]
  },
  {
   "cell_type": "code",
   "execution_count": 6,
   "id": "0cdd825b-5b66-4cd1-8caa-d67ae10c7582",
   "metadata": {},
   "outputs": [],
   "source": [
    "# for label in y:\n",
    "#     y_train = np.append(y_train, label)\n",
    "#     break"
   ]
  },
  {
   "cell_type": "code",
   "execution_count": 7,
   "id": "88a16ec4-6baa-4ee8-b596-6f43513c5dd4",
   "metadata": {},
   "outputs": [],
   "source": [
    "# X = X.append(X_train)\n",
    "# X.shape"
   ]
  },
  {
   "cell_type": "code",
   "execution_count": 8,
   "id": "99143a72-9382-4e84-b0d1-90824eb29a63",
   "metadata": {},
   "outputs": [],
   "source": [
    "# X = X_train\n",
    "# y = y_train\n",
    "\n",
    "# # X = X/255\n",
    "\n",
    "# model = Sequential()\n",
    "\n",
    "# model.add(Conv2D(64, (3,3), input_shape = X.shape[1:]))\n",
    "# model.add(Activation(\"relu\"))\n",
    "# model.add(MaxPooling2D(pool_size=(2,2)))\n",
    "\n",
    "# model.add(Conv2D(64, (3,3)))\n",
    "# model.add(Activation(\"relu\"))\n",
    "# model.add(MaxPooling2D(pool_size=(2,2)))\n",
    "\n",
    "# model.add(Flatten())\n",
    "# model.add(Dense(64))\n",
    "\n",
    "# model.add(Dense(1))\n",
    "# model.add(Activation('sigmoid'))\n",
    "\n",
    "# model.compile(loss=\"categorical_crossentropy\",\n",
    "#              optimizer=\"adam\",\n",
    "#              metrics=['accuracy'])\n",
    "\n",
    "# model.fit(X, y, batch_size = 70, validation_split=0.1, epochs = 5)"
   ]
  },
  {
   "cell_type": "code",
   "execution_count": 10,
   "id": "23d23daf-fa39-481d-a7d0-2c496ec1ac5b",
   "metadata": {},
   "outputs": [
    {
     "name": "stdout",
     "output_type": "stream",
     "text": [
      "x_train shape: (60000, 28, 28, 1)\n",
      "60000 train samples\n",
      "10000 test samples\n",
      "Model: \"sequential_1\"\n",
      "_________________________________________________________________\n",
      "Layer (type)                 Output Shape              Param #   \n",
      "=================================================================\n",
      "conv2d (Conv2D)              (None, 26, 26, 32)        320       \n",
      "_________________________________________________________________\n",
      "max_pooling2d (MaxPooling2D) (None, 13, 13, 32)        0         \n",
      "_________________________________________________________________\n",
      "conv2d_1 (Conv2D)            (None, 11, 11, 64)        18496     \n",
      "_________________________________________________________________\n",
      "max_pooling2d_1 (MaxPooling2 (None, 5, 5, 64)          0         \n",
      "_________________________________________________________________\n",
      "flatten (Flatten)            (None, 1600)              0         \n",
      "_________________________________________________________________\n",
      "dropout (Dropout)            (None, 1600)              0         \n",
      "_________________________________________________________________\n",
      "dense (Dense)                (None, 10)                16010     \n",
      "=================================================================\n",
      "Total params: 34,826\n",
      "Trainable params: 34,826\n",
      "Non-trainable params: 0\n",
      "_________________________________________________________________\n",
      "Epoch 1/15\n",
      "3375/3375 [==============================] - 305s 90ms/step - loss: 0.3879 - accuracy: 0.8769 - val_loss: 0.0594 - val_accuracy: 0.9837\n",
      "Epoch 2/15\n",
      "3375/3375 [==============================] - 301s 89ms/step - loss: 0.0839 - accuracy: 0.9730 - val_loss: 0.0415 - val_accuracy: 0.9882\n",
      "Epoch 3/15\n",
      "3375/3375 [==============================] - 312s 92ms/step - loss: 0.0639 - accuracy: 0.9802 - val_loss: 0.0358 - val_accuracy: 0.9895\n",
      "Epoch 4/15\n",
      "3375/3375 [==============================] - 315s 93ms/step - loss: 0.0557 - accuracy: 0.9818 - val_loss: 0.0325 - val_accuracy: 0.9900\n",
      "Epoch 5/15\n",
      "3375/3375 [==============================] - 306s 91ms/step - loss: 0.0488 - accuracy: 0.9842 - val_loss: 0.0331 - val_accuracy: 0.9902\n",
      "Epoch 6/15\n",
      "3375/3375 [==============================] - 308s 91ms/step - loss: 0.0453 - accuracy: 0.9847 - val_loss: 0.0304 - val_accuracy: 0.9910\n",
      "Epoch 7/15\n",
      "3375/3375 [==============================] - 317s 94ms/step - loss: 0.0410 - accuracy: 0.9860 - val_loss: 0.0301 - val_accuracy: 0.9918\n",
      "Epoch 8/15\n",
      "3375/3375 [==============================] - 312s 92ms/step - loss: 0.0364 - accuracy: 0.9879 - val_loss: 0.0293 - val_accuracy: 0.9918\n",
      "Epoch 9/15\n",
      "3375/3375 [==============================] - 330s 98ms/step - loss: 0.0367 - accuracy: 0.9881 - val_loss: 0.0307 - val_accuracy: 0.9917\n",
      "Epoch 10/15\n",
      "3375/3375 [==============================] - 354s 105ms/step - loss: 0.0330 - accuracy: 0.9891 - val_loss: 0.0289 - val_accuracy: 0.9922\n",
      "Epoch 11/15\n",
      "3375/3375 [==============================] - 349s 103ms/step - loss: 0.0321 - accuracy: 0.9888 - val_loss: 0.0258 - val_accuracy: 0.9922\n",
      "Epoch 12/15\n",
      "3375/3375 [==============================] - 353s 104ms/step - loss: 0.0273 - accuracy: 0.9904 - val_loss: 0.0302 - val_accuracy: 0.9915\n",
      "Epoch 13/15\n",
      "3375/3375 [==============================] - 352s 104ms/step - loss: 0.0289 - accuracy: 0.9901 - val_loss: 0.0360 - val_accuracy: 0.9912\n",
      "Epoch 14/15\n",
      "3375/3375 [==============================] - 346s 102ms/step - loss: 0.0268 - accuracy: 0.9906 - val_loss: 0.0276 - val_accuracy: 0.9922\n",
      "Epoch 15/15\n",
      "3375/3375 [==============================] - 256s 76ms/step - loss: 0.0275 - accuracy: 0.9904 - val_loss: 0.0283 - val_accuracy: 0.9922\n",
      "Test loss: 0.02544752135872841\n",
      "Test accuracy: 0.9926000237464905\n"
     ]
    }
   ],
   "source": [
    "num_classes = 10\n",
    "input_shape = (28, 28, 1)\n",
    "\n",
    "(x_train, y_train), (x_test, y_test) = keras.datasets.mnist.load_data()\n",
    "\n",
    "# Scale images to the [0, 1] range\n",
    "x_train = x_train.astype(\"float32\") / 255\n",
    "x_test = x_test.astype(\"float32\") / 255\n",
    "# Make sure images have shape (28, 28, 1)\n",
    "\n",
    "x_train = np.expand_dims(x_train, -1)\n",
    "x_test = np.expand_dims(x_test, -1)\n",
    "print(\"x_train shape:\", x_train.shape)\n",
    "print(x_train.shape[0], \"train samples\")\n",
    "print(x_test.shape[0], \"test samples\")\n",
    "y_train = keras.utils.to_categorical(y_train, num_classes)\n",
    "y_test = keras.utils.to_categorical(y_test, num_classes)\n",
    "\n",
    "\n",
    "model = keras.Sequential()\n",
    "model.add(keras.Input(shape=(28,28,1)))\n",
    "model.add(Conv2D(32, kernel_size=(3, 3), activation=\"relu\"))\n",
    "model.add(MaxPooling2D(pool_size=(2, 2)))\n",
    "model.add(Conv2D(64, kernel_size=(3,3), activation='relu'))\n",
    "model.add(MaxPooling2D(pool_size=(2,2)))\n",
    "model.add(Flatten())\n",
    "model.add(Dropout(0.5))\n",
    "model.add(Dense(units=10, activation='softmax'))\n",
    "\n",
    "model.summary()\n",
    "\n",
    "\n",
    "model.compile(loss='categorical_crossentropy', optimizer='Adam', metrics=['accuracy'])\n",
    "model.fit(x_train, y_train, batch_size=16, epochs=15, validation_split=0.1)\n",
    "score = model.evaluate(x_test, y_test, verbose=0)\n",
    "print(\"Test loss:\", score[0])\n",
    "print(\"Test accuracy:\", score[1])"
   ]
  },
  {
   "cell_type": "code",
   "execution_count": 11,
   "id": "828f4072-69cc-4cb5-ab53-09665fe8e779",
   "metadata": {},
   "outputs": [],
   "source": [
    "model.save('cnn_model.h5')"
   ]
  },
  {
   "cell_type": "code",
   "execution_count": null,
   "id": "770f8915-6c36-47a7-9d7b-6b1cf63d99f5",
   "metadata": {},
   "outputs": [],
   "source": [
    "plt.figure(figsize=(10,10))\n",
    "for i in range(25):\n",
    "    plt.subplot(5, 5, i+1)\n",
    "    plt.xticks([])\n",
    "    plt.yticks([])\n",
    "    plt.grid('off')\n",
    "    plt.imshow(train_images[i], cmap=plt.cm.binary)\n",
    "    plt.xlabel(class_names[trin_labels[i]])"
   ]
  }
 ],
 "metadata": {
  "kernelspec": {
   "display_name": "Python 3",
   "language": "python",
   "name": "python3"
  },
  "language_info": {
   "codemirror_mode": {
    "name": "ipython",
    "version": 3
   },
   "file_extension": ".py",
   "mimetype": "text/x-python",
   "name": "python",
   "nbconvert_exporter": "python",
   "pygments_lexer": "ipython3",
   "version": "3.8.5"
  }
 },
 "nbformat": 4,
 "nbformat_minor": 5
}
