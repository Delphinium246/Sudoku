{
 "cells": [
  {
   "cell_type": "code",
   "execution_count": 13,
   "id": "79183864-b6ae-49c4-936c-e3bd9cac2b7d",
   "metadata": {},
   "outputs": [],
   "source": [
    "import tensorflow as tf\n",
    "from tensorflow import keras\n",
    "import matplotlib.pyplot as plt\n",
    "import numpy as np\n",
    "import cv2\n",
    "from keras.utils import np_utils\n",
    "from keras.layers import Dense\n",
    "from keras.layers import Dropout\n",
    "from keras.layers import Flatten\n",
    "from keras.layers.convolutional import Conv2D\n",
    "from keras.layers.convolutional import MaxPooling2D\n",
    "from keras.layers import BatchNormalization"
   ]
  },
  {
   "cell_type": "code",
   "execution_count": 14,
   "id": "623087cd-b9f6-45cd-85f1-6c31acf6ca36",
   "metadata": {},
   "outputs": [],
   "source": [
    "(X_train, y_train), (X_test, y_test) = keras.datasets.mnist.load_data()"
   ]
  },
  {
   "cell_type": "code",
   "execution_count": 15,
   "id": "9f432475-f6f6-4642-93ff-c80559578b61",
   "metadata": {},
   "outputs": [],
   "source": [
    "# len(x_train)"
   ]
  },
  {
   "cell_type": "code",
   "execution_count": 16,
   "id": "42420eff-dcce-45e2-9db8-289b86b9593c",
   "metadata": {},
   "outputs": [],
   "source": [
    "# len(x_test)"
   ]
  },
  {
   "cell_type": "code",
   "execution_count": 17,
   "id": "e20844f3-e677-45ad-bbf6-139deb48515f",
   "metadata": {},
   "outputs": [],
   "source": [
    "# X_train = X_train.reshape(X_train.shape[0], 1, 28, 28).astype('float32')\n",
    "# X_test = X_test.reshape(X_test.shape[0], 1, 28, 28).astype('float32')"
   ]
  },
  {
   "cell_type": "code",
   "execution_count": 18,
   "id": "3bac1d04-927d-4fda-993a-40c0356087df",
   "metadata": {},
   "outputs": [],
   "source": [
    "# plt.matshow(x_train[2])"
   ]
  },
  {
   "cell_type": "code",
   "execution_count": 19,
   "id": "dd3b53ed-3f70-426b-9156-302d7274c410",
   "metadata": {},
   "outputs": [],
   "source": [
    "X_train = X_train / 255\n",
    "X_test = X_test / 255 \n",
    "# y_train = np_utils.to_categorical(y_train)\n",
    "# y_test = np_utils.to_categorical(y_test)\n",
    "# num_classes = y_test.shape[1]"
   ]
  },
  {
   "cell_type": "code",
   "execution_count": 20,
   "id": "33eded2b-485c-4e5f-bf7d-fb7e600d291f",
   "metadata": {},
   "outputs": [],
   "source": [
    "# y_train[:10]"
   ]
  },
  {
   "cell_type": "code",
   "execution_count": 28,
   "id": "968aec55-c90a-455f-a5e1-6e8e3571f003",
   "metadata": {},
   "outputs": [],
   "source": [
    "X_train_flatten = X_train.reshape(len(X_train), 28*28)\n",
    "X_test_flatten = X_test.reshape(len(X_test), 28*28)"
   ]
  },
  {
   "cell_type": "code",
   "execution_count": 29,
   "id": "7b4655b7-fe3c-42d8-8746-8ffd8ea7c64c",
   "metadata": {},
   "outputs": [],
   "source": [
    "# x_train_flatten.shape"
   ]
  },
  {
   "cell_type": "code",
   "execution_count": 30,
   "id": "8c7befaf-51a1-4fc1-bc90-ff803bc54acd",
   "metadata": {},
   "outputs": [
    {
     "data": {
      "text/plain": [
       "(60000, 28, 28)"
      ]
     },
     "execution_count": 30,
     "metadata": {},
     "output_type": "execute_result"
    }
   ],
   "source": [
    "X_train.shape"
   ]
  },
  {
   "cell_type": "code",
   "execution_count": 32,
   "id": "3d0141c1-8053-4515-b6cc-7edd18f99220",
   "metadata": {},
   "outputs": [
    {
     "name": "stdout",
     "output_type": "stream",
     "text": [
      "Epoch 1/5\n",
      "1875/1875 [==============================] - 39s 20ms/step - loss: 0.3431 - accuracy: 0.8981\n",
      "Epoch 2/5\n",
      "1875/1875 [==============================] - 38s 20ms/step - loss: 0.0925 - accuracy: 0.9705\n",
      "Epoch 3/5\n",
      "1875/1875 [==============================] - 36s 19ms/step - loss: 0.0546 - accuracy: 0.9828\n",
      "Epoch 4/5\n",
      "1875/1875 [==============================] - 43s 23ms/step - loss: 0.0414 - accuracy: 0.9865\n",
      "Epoch 5/5\n",
      "1875/1875 [==============================] - 50s 27ms/step - loss: 0.0339 - accuracy: 0.9897\n"
     ]
    },
    {
     "data": {
      "text/plain": [
       "<tensorflow.python.keras.callbacks.History at 0x7f37a5a4f460>"
      ]
     },
     "execution_count": 32,
     "metadata": {},
     "output_type": "execute_result"
    }
   ],
   "source": [
    "model = keras.Sequential([\n",
    "    keras.layers.Dense(512, input_shape=(784,), activation='relu'),\n",
    "    keras.layers.Dense(128, activation='relu'),\n",
    "    keras.layers.Dense(64, activation='relu'),\n",
    "    keras.layers.Dense(10, activation='sigmoid')\n",
    "])\n",
    "\n",
    "# model = keras.Sequential()\n",
    "# model.add(Conv2D(32, (1, 1), input_shape=(1, 28, 28), activation='relu'))\n",
    "# model.add(MaxPooling2D(pool_size=(1, 1)))\n",
    "# model.add(Conv2D(16, (1, 1), activation='relu'))\n",
    "# model.add(MaxPooling2D(pool_size=(1, 1)))\n",
    "# model.add(Dropout(0.2))\n",
    "# model.add(Flatten())\n",
    "# model.add(Dense(128, activation='relu'))\n",
    "# model.add(Dense(64, activation='relu'))\n",
    "# model.add(Dense(10, activation='sigmoid'))\n",
    "\n",
    "# model = keras.Sequential([\n",
    "#     Conv2D(32,3, activation='relu', input_shape=(28,28,)),\n",
    "#     BatchNormalization(),\n",
    "#     MaxPooling2D(pool_size=(3, 3)),\n",
    "\n",
    "#     Flatten(),\n",
    "#     Dense(512, activation='relu'),\n",
    "#     Dense(2,activation='softmax')  # activation change\n",
    "# ])\n",
    "model.compile(optimizer='adam',\n",
    "              loss='sparse_categorical_crossentropy', # Loss\n",
    "              metrics=['accuracy'])\n",
    "\n",
    "model.fit(X_train_flatten, y_train, epochs = 5)\n",
    "# model.fit(X_train, y_train, validation_data=(X_test, y_test), epochs=10)"
   ]
  },
  {
   "cell_type": "code",
   "execution_count": 34,
   "id": "aa387fe0-4f98-4c48-b283-983d928ffc40",
   "metadata": {},
   "outputs": [
    {
     "name": "stdout",
     "output_type": "stream",
     "text": [
      "313/313 [==============================] - 3s 9ms/step - loss: 0.0798 - accuracy: 0.9782\n"
     ]
    },
    {
     "data": {
      "text/plain": [
       "[0.07980132102966309, 0.9782000184059143]"
      ]
     },
     "execution_count": 34,
     "metadata": {},
     "output_type": "execute_result"
    }
   ],
   "source": [
    "model.evaluate(X_test_flatten, y_test)"
   ]
  },
  {
   "cell_type": "code",
   "execution_count": 36,
   "id": "05ecb800-263d-457f-99f2-4df391088630",
   "metadata": {},
   "outputs": [
    {
     "data": {
      "text/plain": [
       "<matplotlib.image.AxesImage at 0x7f379b7bde80>"
      ]
     },
     "execution_count": 36,
     "metadata": {},
     "output_type": "execute_result"
    },
    {
     "data": {
      "image/png": "[encoded data removed]",
      "text/plain": [
       "<Figure size 288x288 with 1 Axes>"
      ]
     },
     "metadata": {
      "needs_background": "light"
     },
     "output_type": "display_data"
    }
   ],
   "source": [
    "n = 13\n",
    "plt.matshow(X_test[n])"
   ]
  },
  {
   "cell_type": "code",
   "execution_count": 37,
   "id": "444441b5-2d43-4e26-a301-007c64dc276f",
   "metadata": {},
   "outputs": [
    {
     "data": {
      "text/plain": [
       "array([0.9999826 , 0.03160128, 0.00907946, 0.09241545, 0.01103544,\n",
       "       0.09636396, 0.16099846, 0.74964195, 0.0074288 , 0.78441334],\n",
       "      dtype=float32)"
      ]
     },
     "execution_count": 37,
     "metadata": {},
     "output_type": "execute_result"
    }
   ],
   "source": [
    "prediction = model.predict(X_test_flatten)\n",
    "prediction[n]"
   ]
  },
  {
   "cell_type": "code",
   "execution_count": 38,
   "id": "cde8df2f-cf44-4a1e-8524-ace78970fd7e",
   "metadata": {},
   "outputs": [
    {
     "data": {
      "text/plain": [
       "0"
      ]
     },
     "execution_count": 38,
     "metadata": {},
     "output_type": "execute_result"
    }
   ],
   "source": [
    "np.argmax(prediction[n])"
   ]
  },
  {
   "cell_type": "code",
   "execution_count": 45,
   "id": "14ef423e-17d4-497c-9063-0fa687fc402c",
   "metadata": {},
   "outputs": [
    {
     "data": {
      "text/plain": [
       "<matplotlib.image.AxesImage at 0x7f37a401f370>"
      ]
     },
     "execution_count": 45,
     "metadata": {},
     "output_type": "execute_result"
    },
    {
     "data": {
      "image/png": "[encoded data removed]",
      "text/plain": [
       "<Figure size 288x288 with 1 Axes>"
      ]
     },
     "metadata": {
      "needs_background": "light"
     },
     "output_type": "display_data"
    }
   ],
   "source": [
    "img = cv2.imread('./tmp_img_68550.jpg', 0)\n",
    "img = cv2.resize(img, (28, 28), interpolation = cv2.INTER_CUBIC)\n",
    "plt.matshow(img)"
   ]
  },
  {
   "cell_type": "code",
   "execution_count": 46,
   "id": "7741c0c6-8b0a-41cf-bf3a-9a8e33b4a130",
   "metadata": {},
   "outputs": [
    {
     "data": {
      "text/plain": [
       "(1, 784)"
      ]
     },
     "execution_count": 46,
     "metadata": {},
     "output_type": "execute_result"
    }
   ],
   "source": [
    "img_flatten = img.reshape(1, 28*28)\n",
    "img_flatten.shape"
   ]
  },
  {
   "cell_type": "code",
   "execution_count": 47,
   "id": "81b97b7a-2ba6-44b1-9d0f-35b18f6d09b0",
   "metadata": {},
   "outputs": [
    {
     "data": {
      "text/plain": [
       "3"
      ]
     },
     "execution_count": 47,
     "metadata": {},
     "output_type": "execute_result"
    }
   ],
   "source": [
    "img_prediction = model.predict(img_flatten)\n",
    "np.argmax(img_prediction)"
   ]
  },
  {
   "cell_type": "code",
   "execution_count": null,
   "id": "007a0d01-ef22-49e9-ae1a-c8a210aca800",
   "metadata": {},
   "outputs": [],
   "source": []
  }
 ],
 "metadata": {
  "kernelspec": {
   "display_name": "Python 3",
   "language": "python",
   "name": "python3"
  },
  "language_info": {
   "codemirror_mode": {
    "name": "ipython",
    "version": 3
   },
   "file_extension": ".py",
   "mimetype": "text/x-python",
   "name": "python",
   "nbconvert_exporter": "python",
   "pygments_lexer": "ipython3",
   "version": "3.8.5"
  }
 },
 "nbformat": 4,
 "nbformat_minor": 5
}
